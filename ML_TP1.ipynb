{
 "cells": [
  {
   "cell_type": "markdown",
   "metadata": {},
   "source": [
    "# <center><font color=\"#660000\">TP1 Classification Non Supervisée</font></center>"
   ]
  },
  {
   "cell_type": "markdown",
   "metadata": {},
   "source": [
    "<center><font size=\"4\"><font color=\"#660000\">Etude descriptive des données \"Fromage\"</font></font></center> "
   ]
  },
  {
   "cell_type": "markdown",
   "metadata": {},
   "source": [
    "## <font size=5><font color=\"#FF8C00\">Partie I</font></font>"
   ]
  },
  {
   "cell_type": "markdown",
   "metadata": {},
   "source": [
    "### <font color=\"#FF8C00\">1. Input Data \"Fromages_data.txt\"</font>"
   ]
  },
  {
   "cell_type": "code",
   "execution_count": 10,
   "metadata": {},
   "outputs": [],
   "source": [
    "nomfile = \"fromages_data.txt\""
   ]
  },
  {
   "cell_type": "code",
   "execution_count": 11,
   "metadata": {},
   "outputs": [],
   "source": [
    "fromages = read.table(nomfile, header=T,row.names=1,sep=\"\\t\",dec=\".\")"
   ]
  },
  {
   "cell_type": "markdown",
   "metadata": {},
   "source": [
    "### <font size=\"4\"><font color=\"#FF8C00\">2. Manipulation des données</font></font>"
   ]
  },
  {
   "cell_type": "markdown",
   "metadata": {},
   "source": [
    "<font size=\"4\"><font color=\"#DB7093\">Afficher les premiers 5 lignes</font></font>"
   ]
  },
  {
   "cell_type": "code",
   "execution_count": 13,
   "metadata": {},
   "outputs": [
    {
     "data": {
      "text/html": [
       "<table>\n",
       "<caption>A data.frame: 5 × 9</caption>\n",
       "<thead>\n",
       "\t<tr><th></th><th scope=col>calories</th><th scope=col>sodium</th><th scope=col>calcium</th><th scope=col>lipides</th><th scope=col>retinol</th><th scope=col>folates</th><th scope=col>proteines</th><th scope=col>cholesterol</th><th scope=col>magnesium</th></tr>\n",
       "\t<tr><th></th><th scope=col>&lt;int&gt;</th><th scope=col>&lt;dbl&gt;</th><th scope=col>&lt;dbl&gt;</th><th scope=col>&lt;dbl&gt;</th><th scope=col>&lt;dbl&gt;</th><th scope=col>&lt;dbl&gt;</th><th scope=col>&lt;dbl&gt;</th><th scope=col>&lt;int&gt;</th><th scope=col>&lt;int&gt;</th></tr>\n",
       "</thead>\n",
       "<tbody>\n",
       "\t<tr><th scope=row>CarredelEst</th><td>314</td><td>353.5</td><td> 72.6</td><td>26.3</td><td> 51.6</td><td>30.3</td><td>21.0</td><td> 70</td><td>20</td></tr>\n",
       "\t<tr><th scope=row>Babybel</th><td>314</td><td>238.0</td><td>209.8</td><td>25.1</td><td> 63.7</td><td> 6.4</td><td>22.6</td><td> 70</td><td>27</td></tr>\n",
       "\t<tr><th scope=row>Beaufort</th><td>401</td><td>112.0</td><td>259.4</td><td>33.3</td><td> 54.9</td><td> 1.2</td><td>26.6</td><td>120</td><td>41</td></tr>\n",
       "\t<tr><th scope=row>Bleu</th><td>342</td><td>336.0</td><td>211.1</td><td>28.9</td><td> 37.1</td><td>27.5</td><td>20.2</td><td> 90</td><td>27</td></tr>\n",
       "\t<tr><th scope=row>Camembert</th><td>264</td><td>314.0</td><td>215.9</td><td>19.5</td><td>103.0</td><td>36.4</td><td>23.4</td><td> 60</td><td>20</td></tr>\n",
       "</tbody>\n",
       "</table>\n"
      ],
      "text/latex": [
       "A data.frame: 5 × 9\n",
       "\\begin{tabular}{r|lllllllll}\n",
       "  & calories & sodium & calcium & lipides & retinol & folates & proteines & cholesterol & magnesium\\\\\n",
       "  & <int> & <dbl> & <dbl> & <dbl> & <dbl> & <dbl> & <dbl> & <int> & <int>\\\\\n",
       "\\hline\n",
       "\tCarredelEst & 314 & 353.5 &  72.6 & 26.3 &  51.6 & 30.3 & 21.0 &  70 & 20\\\\\n",
       "\tBabybel & 314 & 238.0 & 209.8 & 25.1 &  63.7 &  6.4 & 22.6 &  70 & 27\\\\\n",
       "\tBeaufort & 401 & 112.0 & 259.4 & 33.3 &  54.9 &  1.2 & 26.6 & 120 & 41\\\\\n",
       "\tBleu & 342 & 336.0 & 211.1 & 28.9 &  37.1 & 27.5 & 20.2 &  90 & 27\\\\\n",
       "\tCamembert & 264 & 314.0 & 215.9 & 19.5 & 103.0 & 36.4 & 23.4 &  60 & 20\\\\\n",
       "\\end{tabular}\n"
      ],
      "text/markdown": [
       "\n",
       "A data.frame: 5 × 9\n",
       "\n",
       "| <!--/--> | calories &lt;int&gt; | sodium &lt;dbl&gt; | calcium &lt;dbl&gt; | lipides &lt;dbl&gt; | retinol &lt;dbl&gt; | folates &lt;dbl&gt; | proteines &lt;dbl&gt; | cholesterol &lt;int&gt; | magnesium &lt;int&gt; |\n",
       "|---|---|---|---|---|---|---|---|---|---|\n",
       "| CarredelEst | 314 | 353.5 |  72.6 | 26.3 |  51.6 | 30.3 | 21.0 |  70 | 20 |\n",
       "| Babybel | 314 | 238.0 | 209.8 | 25.1 |  63.7 |  6.4 | 22.6 |  70 | 27 |\n",
       "| Beaufort | 401 | 112.0 | 259.4 | 33.3 |  54.9 |  1.2 | 26.6 | 120 | 41 |\n",
       "| Bleu | 342 | 336.0 | 211.1 | 28.9 |  37.1 | 27.5 | 20.2 |  90 | 27 |\n",
       "| Camembert | 264 | 314.0 | 215.9 | 19.5 | 103.0 | 36.4 | 23.4 |  60 | 20 |\n",
       "\n"
      ],
      "text/plain": [
       "            calories sodium calcium lipides retinol folates proteines\n",
       "CarredelEst 314      353.5   72.6   26.3     51.6   30.3    21.0     \n",
       "Babybel     314      238.0  209.8   25.1     63.7    6.4    22.6     \n",
       "Beaufort    401      112.0  259.4   33.3     54.9    1.2    26.6     \n",
       "Bleu        342      336.0  211.1   28.9     37.1   27.5    20.2     \n",
       "Camembert   264      314.0  215.9   19.5    103.0   36.4    23.4     \n",
       "            cholesterol magnesium\n",
       "CarredelEst  70         20       \n",
       "Babybel      70         27       \n",
       "Beaufort    120         41       \n",
       "Bleu         90         27       \n",
       "Camembert    60         20       "
      ]
     },
     "metadata": {},
     "output_type": "display_data"
    }
   ],
   "source": [
    "fromages[1:5,]"
   ]
  },
  {
   "cell_type": "markdown",
   "metadata": {},
   "source": [
    "<font size=\"4\"><font color=\"#DB7093\">Afficher les noms de chaque ligne</font></font>"
   ]
  },
  {
   "cell_type": "code",
   "execution_count": 14,
   "metadata": {},
   "outputs": [
    {
     "data": {
      "text/html": [
       "<style>\n",
       ".list-inline {list-style: none; margin:0; padding: 0}\n",
       ".list-inline>li {display: inline-block}\n",
       ".list-inline>li:not(:last-child)::after {content: \"\\00b7\"; padding: 0 .5ex}\n",
       "</style>\n",
       "<ol class=list-inline><li>'CarredelEst'</li><li>'Babybel'</li><li>'Beaufort'</li><li>'Bleu'</li><li>'Camembert'</li><li>'Cantal'</li><li>'Chabichou'</li><li>'Chaource'</li><li>'Cheddar'</li><li>'Comte'</li><li>'Coulomniers'</li><li>'Edam'</li><li>'Emmental'</li><li>'Fr.chevrepatemolle'</li><li>'Fr.fondu.45'</li><li>'Fr.frais20nat.'</li><li>'Fr.frais40nat.'</li><li>'Maroilles'</li><li>'Morbier'</li><li>'Parmesan'</li><li>'Petitsuisse40'</li><li>'PontlEveque'</li><li>'Pyrenees'</li><li>'Reblochon'</li><li>'Rocquefort'</li><li>'SaintPaulin'</li><li>'Tome'</li><li>'Vacherin'</li><li>'Yaourtlaitent.nat.'</li></ol>\n"
      ],
      "text/latex": [
       "\\begin{enumerate*}\n",
       "\\item 'CarredelEst'\n",
       "\\item 'Babybel'\n",
       "\\item 'Beaufort'\n",
       "\\item 'Bleu'\n",
       "\\item 'Camembert'\n",
       "\\item 'Cantal'\n",
       "\\item 'Chabichou'\n",
       "\\item 'Chaource'\n",
       "\\item 'Cheddar'\n",
       "\\item 'Comte'\n",
       "\\item 'Coulomniers'\n",
       "\\item 'Edam'\n",
       "\\item 'Emmental'\n",
       "\\item 'Fr.chevrepatemolle'\n",
       "\\item 'Fr.fondu.45'\n",
       "\\item 'Fr.frais20nat.'\n",
       "\\item 'Fr.frais40nat.'\n",
       "\\item 'Maroilles'\n",
       "\\item 'Morbier'\n",
       "\\item 'Parmesan'\n",
       "\\item 'Petitsuisse40'\n",
       "\\item 'PontlEveque'\n",
       "\\item 'Pyrenees'\n",
       "\\item 'Reblochon'\n",
       "\\item 'Rocquefort'\n",
       "\\item 'SaintPaulin'\n",
       "\\item 'Tome'\n",
       "\\item 'Vacherin'\n",
       "\\item 'Yaourtlaitent.nat.'\n",
       "\\end{enumerate*}\n"
      ],
      "text/markdown": [
       "1. 'CarredelEst'\n",
       "2. 'Babybel'\n",
       "3. 'Beaufort'\n",
       "4. 'Bleu'\n",
       "5. 'Camembert'\n",
       "6. 'Cantal'\n",
       "7. 'Chabichou'\n",
       "8. 'Chaource'\n",
       "9. 'Cheddar'\n",
       "10. 'Comte'\n",
       "11. 'Coulomniers'\n",
       "12. 'Edam'\n",
       "13. 'Emmental'\n",
       "14. 'Fr.chevrepatemolle'\n",
       "15. 'Fr.fondu.45'\n",
       "16. 'Fr.frais20nat.'\n",
       "17. 'Fr.frais40nat.'\n",
       "18. 'Maroilles'\n",
       "19. 'Morbier'\n",
       "20. 'Parmesan'\n",
       "21. 'Petitsuisse40'\n",
       "22. 'PontlEveque'\n",
       "23. 'Pyrenees'\n",
       "24. 'Reblochon'\n",
       "25. 'Rocquefort'\n",
       "26. 'SaintPaulin'\n",
       "27. 'Tome'\n",
       "28. 'Vacherin'\n",
       "29. 'Yaourtlaitent.nat.'\n",
       "\n",
       "\n"
      ],
      "text/plain": [
       " [1] \"CarredelEst\"        \"Babybel\"            \"Beaufort\"          \n",
       " [4] \"Bleu\"               \"Camembert\"          \"Cantal\"            \n",
       " [7] \"Chabichou\"          \"Chaource\"           \"Cheddar\"           \n",
       "[10] \"Comte\"              \"Coulomniers\"        \"Edam\"              \n",
       "[13] \"Emmental\"           \"Fr.chevrepatemolle\" \"Fr.fondu.45\"       \n",
       "[16] \"Fr.frais20nat.\"     \"Fr.frais40nat.\"     \"Maroilles\"         \n",
       "[19] \"Morbier\"            \"Parmesan\"           \"Petitsuisse40\"     \n",
       "[22] \"PontlEveque\"        \"Pyrenees\"           \"Reblochon\"         \n",
       "[25] \"Rocquefort\"         \"SaintPaulin\"        \"Tome\"              \n",
       "[28] \"Vacherin\"           \"Yaourtlaitent.nat.\""
      ]
     },
     "metadata": {},
     "output_type": "display_data"
    }
   ],
   "source": [
    "rownames(fromages) "
   ]
  },
  {
   "cell_type": "markdown",
   "metadata": {},
   "source": [
    "<font size=\"4\"><font color=\"#DB7093\">Afficher les noms de chaque colonne</font></font>"
   ]
  },
  {
   "cell_type": "code",
   "execution_count": 15,
   "metadata": {
    "scrolled": true
   },
   "outputs": [
    {
     "data": {
      "text/html": [
       "<style>\n",
       ".list-inline {list-style: none; margin:0; padding: 0}\n",
       ".list-inline>li {display: inline-block}\n",
       ".list-inline>li:not(:last-child)::after {content: \"\\00b7\"; padding: 0 .5ex}\n",
       "</style>\n",
       "<ol class=list-inline><li>'calories'</li><li>'sodium'</li><li>'calcium'</li><li>'lipides'</li><li>'retinol'</li><li>'folates'</li><li>'proteines'</li><li>'cholesterol'</li><li>'magnesium'</li></ol>\n"
      ],
      "text/latex": [
       "\\begin{enumerate*}\n",
       "\\item 'calories'\n",
       "\\item 'sodium'\n",
       "\\item 'calcium'\n",
       "\\item 'lipides'\n",
       "\\item 'retinol'\n",
       "\\item 'folates'\n",
       "\\item 'proteines'\n",
       "\\item 'cholesterol'\n",
       "\\item 'magnesium'\n",
       "\\end{enumerate*}\n"
      ],
      "text/markdown": [
       "1. 'calories'\n",
       "2. 'sodium'\n",
       "3. 'calcium'\n",
       "4. 'lipides'\n",
       "5. 'retinol'\n",
       "6. 'folates'\n",
       "7. 'proteines'\n",
       "8. 'cholesterol'\n",
       "9. 'magnesium'\n",
       "\n",
       "\n"
      ],
      "text/plain": [
       "[1] \"calories\"    \"sodium\"      \"calcium\"     \"lipides\"     \"retinol\"    \n",
       "[6] \"folates\"     \"proteines\"   \"cholesterol\" \"magnesium\"  "
      ]
     },
     "metadata": {},
     "output_type": "display_data"
    }
   ],
   "source": [
    "names(fromages)"
   ]
  },
  {
   "cell_type": "markdown",
   "metadata": {},
   "source": [
    "### <font size=\"4\"><font color=\"#FF8C00\">3. Analyse des statistiques descriptives</font></font>"
   ]
  },
  {
   "cell_type": "code",
   "execution_count": 16,
   "metadata": {},
   "outputs": [
    {
     "data": {
      "text/plain": [
       "    calories       sodium         calcium         lipides         retinol      \n",
       " Min.   : 70   Min.   : 22.0   Min.   : 72.6   Min.   : 3.40   Min.   : 37.10  \n",
       " 1st Qu.:292   1st Qu.:140.0   1st Qu.:132.9   1st Qu.:23.40   1st Qu.: 51.60  \n",
       " Median :321   Median :223.0   Median :202.3   Median :26.30   Median : 62.30  \n",
       " Mean   :300   Mean   :210.1   Mean   :185.7   Mean   :24.16   Mean   : 67.56  \n",
       " 3rd Qu.:355   3rd Qu.:276.0   3rd Qu.:220.5   3rd Qu.:29.10   3rd Qu.: 76.40  \n",
       " Max.   :406   Max.   :432.0   Max.   :334.6   Max.   :33.30   Max.   :150.50  \n",
       "    folates        proteines      cholesterol       magnesium    \n",
       " Min.   : 1.20   Min.   : 4.10   Min.   : 10.00   Min.   :10.00  \n",
       " 1st Qu.: 4.90   1st Qu.:17.80   1st Qu.: 70.00   1st Qu.:20.00  \n",
       " Median : 6.40   Median :21.00   Median : 80.00   Median :26.00  \n",
       " Mean   :13.01   Mean   :20.17   Mean   : 74.59   Mean   :26.97  \n",
       " 3rd Qu.:21.10   3rd Qu.:23.40   3rd Qu.: 90.00   3rd Qu.:30.00  \n",
       " Max.   :36.40   Max.   :35.70   Max.   :120.00   Max.   :51.00  "
      ]
     },
     "metadata": {},
     "output_type": "display_data"
    }
   ],
   "source": [
    "#求出每一列的最小值，排列后第25%的值，中位数，平均值，排列后第75%的数，最大值\n",
    "\n",
    "summary(fromages)"
   ]
  },
  {
   "cell_type": "markdown",
   "metadata": {},
   "source": [
    "## <font size=\"5\"><font color=\"#FF8C00\">4. Construction d'une Statbase</font></font>"
   ]
  },
  {
   "cell_type": "code",
   "execution_count": 38,
   "metadata": {},
   "outputs": [],
   "source": [
    "#建立一个statbase，按行（rbind）插入并存储每一列的summary()的结果\n",
    "\n",
    "statbase = NULL\n",
    "for (j in 1:ncol(fromages)){\n",
    "  statbase =rbind(statbase, summary(fromages[,j]))\n",
    "}\n",
    "\n",
    "#statbase的每一行的命名对应fromage的names(),每一列的名字\n",
    "\n",
    "rownames(statbase) = names(fromages)\n",
    "\n",
    "#求fromages中每一列的标准差\n",
    "\n",
    "ecart.type = apply(fromages, 2, sd)\n",
    "\n",
    "#讲标准差按列cbind插入statbase\n",
    "\n",
    "statbase = cbind(statbase, round(ecart.type,2))"
   ]
  },
  {
   "cell_type": "code",
   "execution_count": 39,
   "metadata": {},
   "outputs": [
    {
     "data": {
      "text/html": [
       "<table>\n",
       "<caption>A matrix: 9 × 7 of type dbl</caption>\n",
       "<thead>\n",
       "\t<tr><th></th><th scope=col>Min.</th><th scope=col>1st Qu.</th><th scope=col>Median</th><th scope=col>Mean</th><th scope=col>3rd Qu.</th><th scope=col>Max.</th><th scope=col></th></tr>\n",
       "</thead>\n",
       "<tbody>\n",
       "\t<tr><th scope=row>calories</th><td>70.0</td><td>292.0</td><td>321.0</td><td>300.03448</td><td>355.0</td><td>406.0</td><td> 91.91</td></tr>\n",
       "\t<tr><th scope=row>sodium</th><td>22.0</td><td>140.0</td><td>223.0</td><td>210.08621</td><td>276.0</td><td>432.0</td><td>108.68</td></tr>\n",
       "\t<tr><th scope=row>calcium</th><td>72.6</td><td>132.9</td><td>202.3</td><td>185.73448</td><td>220.5</td><td>334.6</td><td> 72.53</td></tr>\n",
       "\t<tr><th scope=row>lipides</th><td> 3.4</td><td> 23.4</td><td> 26.3</td><td> 24.15862</td><td> 29.1</td><td> 33.3</td><td>  8.13</td></tr>\n",
       "\t<tr><th scope=row>retinol</th><td>37.1</td><td> 51.6</td><td> 62.3</td><td> 67.56207</td><td> 76.4</td><td>150.5</td><td> 24.16</td></tr>\n",
       "\t<tr><th scope=row>folates</th><td> 1.2</td><td>  4.9</td><td>  6.4</td><td> 13.01034</td><td> 21.1</td><td> 36.4</td><td> 11.72</td></tr>\n",
       "\t<tr><th scope=row>proteines</th><td> 4.1</td><td> 17.8</td><td> 21.0</td><td> 20.16897</td><td> 23.4</td><td> 35.7</td><td>  6.96</td></tr>\n",
       "\t<tr><th scope=row>cholesterol</th><td>10.0</td><td> 70.0</td><td> 80.0</td><td> 74.58621</td><td> 90.0</td><td>120.0</td><td> 28.25</td></tr>\n",
       "\t<tr><th scope=row>magnesium</th><td>10.0</td><td> 20.0</td><td> 26.0</td><td> 26.96552</td><td> 30.0</td><td> 51.0</td><td> 11.32</td></tr>\n",
       "</tbody>\n",
       "</table>\n"
      ],
      "text/latex": [
       "A matrix: 9 × 7 of type dbl\n",
       "\\begin{tabular}{r|lllllll}\n",
       "  & Min. & 1st Qu. & Median & Mean & 3rd Qu. & Max. & \\\\\n",
       "\\hline\n",
       "\tcalories & 70.0 & 292.0 & 321.0 & 300.03448 & 355.0 & 406.0 &  91.91\\\\\n",
       "\tsodium & 22.0 & 140.0 & 223.0 & 210.08621 & 276.0 & 432.0 & 108.68\\\\\n",
       "\tcalcium & 72.6 & 132.9 & 202.3 & 185.73448 & 220.5 & 334.6 &  72.53\\\\\n",
       "\tlipides &  3.4 &  23.4 &  26.3 &  24.15862 &  29.1 &  33.3 &   8.13\\\\\n",
       "\tretinol & 37.1 &  51.6 &  62.3 &  67.56207 &  76.4 & 150.5 &  24.16\\\\\n",
       "\tfolates &  1.2 &   4.9 &   6.4 &  13.01034 &  21.1 &  36.4 &  11.72\\\\\n",
       "\tproteines &  4.1 &  17.8 &  21.0 &  20.16897 &  23.4 &  35.7 &   6.96\\\\\n",
       "\tcholesterol & 10.0 &  70.0 &  80.0 &  74.58621 &  90.0 & 120.0 &  28.25\\\\\n",
       "\tmagnesium & 10.0 &  20.0 &  26.0 &  26.96552 &  30.0 &  51.0 &  11.32\\\\\n",
       "\\end{tabular}\n"
      ],
      "text/markdown": [
       "\n",
       "A matrix: 9 × 7 of type dbl\n",
       "\n",
       "| <!--/--> | Min. | 1st Qu. | Median | Mean | 3rd Qu. | Max. | <!----> |\n",
       "|---|---|---|---|---|---|---|---|\n",
       "| calories | 70.0 | 292.0 | 321.0 | 300.03448 | 355.0 | 406.0 |  91.91 |\n",
       "| sodium | 22.0 | 140.0 | 223.0 | 210.08621 | 276.0 | 432.0 | 108.68 |\n",
       "| calcium | 72.6 | 132.9 | 202.3 | 185.73448 | 220.5 | 334.6 |  72.53 |\n",
       "| lipides |  3.4 |  23.4 |  26.3 |  24.15862 |  29.1 |  33.3 |   8.13 |\n",
       "| retinol | 37.1 |  51.6 |  62.3 |  67.56207 |  76.4 | 150.5 |  24.16 |\n",
       "| folates |  1.2 |   4.9 |   6.4 |  13.01034 |  21.1 |  36.4 |  11.72 |\n",
       "| proteines |  4.1 |  17.8 |  21.0 |  20.16897 |  23.4 |  35.7 |   6.96 |\n",
       "| cholesterol | 10.0 |  70.0 |  80.0 |  74.58621 |  90.0 | 120.0 |  28.25 |\n",
       "| magnesium | 10.0 |  20.0 |  26.0 |  26.96552 |  30.0 |  51.0 |  11.32 |\n",
       "\n"
      ],
      "text/plain": [
       "            Min. 1st Qu. Median Mean      3rd Qu. Max.        \n",
       "calories    70.0 292.0   321.0  300.03448 355.0   406.0  91.91\n",
       "sodium      22.0 140.0   223.0  210.08621 276.0   432.0 108.68\n",
       "calcium     72.6 132.9   202.3  185.73448 220.5   334.6  72.53\n",
       "lipides      3.4  23.4    26.3   24.15862  29.1    33.3   8.13\n",
       "retinol     37.1  51.6    62.3   67.56207  76.4   150.5  24.16\n",
       "folates      1.2   4.9     6.4   13.01034  21.1    36.4  11.72\n",
       "proteines    4.1  17.8    21.0   20.16897  23.4    35.7   6.96\n",
       "cholesterol 10.0  70.0    80.0   74.58621  90.0   120.0  28.25\n",
       "magnesium   10.0  20.0    26.0   26.96552  30.0    51.0  11.32"
      ]
     },
     "metadata": {},
     "output_type": "display_data"
    }
   ],
   "source": [
    "statbase"
   ]
  },
  {
   "cell_type": "markdown",
   "metadata": {},
   "source": [
    "### <font size=\"4\"><font color=\"#FF8C00\">5. Histogramme en frequences de la premiere variable</font></font>"
   ]
  },
  {
   "cell_type": "code",
   "execution_count": 55,
   "metadata": {
    "scrolled": false
   },
   "outputs": [
    {
     "data": {
      "image/png": "[encoded data removed]",
      "text/plain": [
       "Plot with title \"Histogram of calories\""
      ]
     },
     "metadata": {
      "image/png": {
       "height": 420,
       "width": 420
      }
     },
     "output_type": "display_data"
    },
    {
     "data": {
      "image/png": "[encoded data removed]",
      "text/plain": [
       "Plot with title \"Histogram of sodium\""
      ]
     },
     "metadata": {
      "image/png": {
       "height": 420,
       "width": 420
      }
     },
     "output_type": "display_data"
    },
    {
     "data": {
      "image/png": "[encoded data removed]",
      "text/plain": [
       "Plot with title \"Histogram of calcium\""
      ]
     },
     "metadata": {
      "image/png": {
       "height": 420,
       "width": 420
      }
     },
     "output_type": "display_data"
    },
    {
     "data": {
      "image/png": "[encoded data removed]",
      "text/plain": [
       "Plot with title \"Histogram of lipides\""
      ]
     },
     "metadata": {
      "image/png": {
       "height": 420,
       "width": 420
      }
     },
     "output_type": "display_data"
    },
    {
     "data": {
      "image/png": "[encoded data removed]",
      "text/plain": [
       "Plot with title \"Histogram of retinol\""
      ]
     },
     "metadata": {
      "image/png": {
       "height": 420,
       "width": 420
      }
     },
     "output_type": "display_data"
    },
    {
     "data": {
      "image/png": "[encoded data removed]",
      "text/plain": [
       "Plot with title \"Histogram of folates\""
      ]
     },
     "metadata": {
      "image/png": {
       "height": 420,
       "width": 420
      }
     },
     "output_type": "display_data"
    },
    {
     "data": {
      "image/png": "[encoded data removed]",
      "text/plain": [
       "Plot with title \"Histogram of proteines\""
      ]
     },
     "metadata": {
      "image/png": {
       "height": 420,
       "width": 420
      }
     },
     "output_type": "display_data"
    },
    {
     "data": {
      "image/png": "[encoded data removed]",
      "text/plain": [
       "Plot with title \"Histogram of cholesterol\""
      ]
     },
     "metadata": {
      "image/png": {
       "height": 420,
       "width": 420
      }
     },
     "output_type": "display_data"
    },
    {
     "data": {
      "image/png": "[encoded data removed]",
      "text/plain": [
       "Plot with title \"Histogram of magnesium\""
      ]
     },
     "metadata": {
      "image/png": {
       "height": 420,
       "width": 420
      }
     },
     "output_type": "display_data"
    }
   ],
   "source": [
    "# 直方图，质量分布图\n",
    "# x轴：组距相同的范围分组，y轴：频数（出现次数）/频率（归一化，和为1）\n",
    "# proba 为True频率 False为频数    col 设置条的颜色    xlab 设置x轴名字    xlim 设置x轴范围    cex 指定符号的大小    main 图标的标题\n",
    "\n",
    "j = 1\n",
    "for (j in 1:9){\n",
    "    # 绘制直方图\n",
    "    hist(as.numeric(fromages[,j]), main = paste(\"Histogram of\",names(fromages)[j]), proba=TRUE, col = \"cyan\", xlab=names(fromages)[j],\n",
    "     cex.main=1.6, cex.axis=1.4)\n",
    "    # 加入正态分布密度曲线\n",
    "    curve(dnorm(x,mean=mean(fromages[,j]),sd=sd(fromages[,j])),add=TRUE,col='darkblue',lwd=2)\n",
    "}"
   ]
  },
  {
   "cell_type": "markdown",
   "metadata": {},
   "source": [
    "<font size=4>从上述9张图中可得，sodium，calsium更偏向于是一个正态分布(loi normale).</font>"
   ]
  },
  {
   "cell_type": "markdown",
   "metadata": {},
   "source": [
    "### <font size=\"4\"><font color=\"#FF8C00\">6. Corrélation entre chaque 2 caractéristiques.</font></font>"
   ]
  },
  {
   "cell_type": "code",
   "execution_count": 56,
   "metadata": {},
   "outputs": [
    {
     "data": {
      "text/html": [
       "<table>\n",
       "<caption>A matrix: 9 × 9 of type dbl</caption>\n",
       "<thead>\n",
       "\t<tr><th></th><th scope=col>calories</th><th scope=col>sodium</th><th scope=col>calcium</th><th scope=col>lipides</th><th scope=col>retinol</th><th scope=col>folates</th><th scope=col>proteines</th><th scope=col>cholesterol</th><th scope=col>magnesium</th></tr>\n",
       "</thead>\n",
       "<tbody>\n",
       "\t<tr><th scope=row>calories</th><td> 1.00</td><td>0.45</td><td> 0.43</td><td> 0.98</td><td>-0.04</td><td>-0.32</td><td> 0.89</td><td> 0.96</td><td> 0.75</td></tr>\n",
       "\t<tr><th scope=row>sodium</th><td> 0.45</td><td>1.00</td><td> 0.01</td><td> 0.48</td><td> 0.14</td><td> 0.14</td><td> 0.28</td><td> 0.33</td><td> 0.03</td></tr>\n",
       "\t<tr><th scope=row>calcium</th><td> 0.43</td><td>0.01</td><td> 1.00</td><td> 0.34</td><td>-0.29</td><td>-0.64</td><td> 0.61</td><td> 0.43</td><td> 0.71</td></tr>\n",
       "\t<tr><th scope=row>lipides</th><td> 0.98</td><td>0.48</td><td> 0.34</td><td> 1.00</td><td>-0.02</td><td>-0.28</td><td> 0.81</td><td> 0.96</td><td> 0.69</td></tr>\n",
       "\t<tr><th scope=row>retinol</th><td>-0.04</td><td>0.14</td><td>-0.29</td><td>-0.02</td><td> 1.00</td><td> 0.52</td><td>-0.04</td><td>-0.09</td><td>-0.10</td></tr>\n",
       "\t<tr><th scope=row>folates</th><td>-0.32</td><td>0.14</td><td>-0.64</td><td>-0.28</td><td> 0.52</td><td> 1.00</td><td>-0.35</td><td>-0.37</td><td>-0.45</td></tr>\n",
       "\t<tr><th scope=row>proteines</th><td> 0.89</td><td>0.28</td><td> 0.61</td><td> 0.81</td><td>-0.04</td><td>-0.35</td><td> 1.00</td><td> 0.82</td><td> 0.79</td></tr>\n",
       "\t<tr><th scope=row>cholesterol</th><td> 0.96</td><td>0.33</td><td> 0.43</td><td> 0.96</td><td>-0.09</td><td>-0.37</td><td> 0.82</td><td> 1.00</td><td> 0.75</td></tr>\n",
       "\t<tr><th scope=row>magnesium</th><td> 0.75</td><td>0.03</td><td> 0.71</td><td> 0.69</td><td>-0.10</td><td>-0.45</td><td> 0.79</td><td> 0.75</td><td> 1.00</td></tr>\n",
       "</tbody>\n",
       "</table>\n"
      ],
      "text/latex": [
       "A matrix: 9 × 9 of type dbl\n",
       "\\begin{tabular}{r|lllllllll}\n",
       "  & calories & sodium & calcium & lipides & retinol & folates & proteines & cholesterol & magnesium\\\\\n",
       "\\hline\n",
       "\tcalories &  1.00 & 0.45 &  0.43 &  0.98 & -0.04 & -0.32 &  0.89 &  0.96 &  0.75\\\\\n",
       "\tsodium &  0.45 & 1.00 &  0.01 &  0.48 &  0.14 &  0.14 &  0.28 &  0.33 &  0.03\\\\\n",
       "\tcalcium &  0.43 & 0.01 &  1.00 &  0.34 & -0.29 & -0.64 &  0.61 &  0.43 &  0.71\\\\\n",
       "\tlipides &  0.98 & 0.48 &  0.34 &  1.00 & -0.02 & -0.28 &  0.81 &  0.96 &  0.69\\\\\n",
       "\tretinol & -0.04 & 0.14 & -0.29 & -0.02 &  1.00 &  0.52 & -0.04 & -0.09 & -0.10\\\\\n",
       "\tfolates & -0.32 & 0.14 & -0.64 & -0.28 &  0.52 &  1.00 & -0.35 & -0.37 & -0.45\\\\\n",
       "\tproteines &  0.89 & 0.28 &  0.61 &  0.81 & -0.04 & -0.35 &  1.00 &  0.82 &  0.79\\\\\n",
       "\tcholesterol &  0.96 & 0.33 &  0.43 &  0.96 & -0.09 & -0.37 &  0.82 &  1.00 &  0.75\\\\\n",
       "\tmagnesium &  0.75 & 0.03 &  0.71 &  0.69 & -0.10 & -0.45 &  0.79 &  0.75 &  1.00\\\\\n",
       "\\end{tabular}\n"
      ],
      "text/markdown": [
       "\n",
       "A matrix: 9 × 9 of type dbl\n",
       "\n",
       "| <!--/--> | calories | sodium | calcium | lipides | retinol | folates | proteines | cholesterol | magnesium |\n",
       "|---|---|---|---|---|---|---|---|---|---|\n",
       "| calories |  1.00 | 0.45 |  0.43 |  0.98 | -0.04 | -0.32 |  0.89 |  0.96 |  0.75 |\n",
       "| sodium |  0.45 | 1.00 |  0.01 |  0.48 |  0.14 |  0.14 |  0.28 |  0.33 |  0.03 |\n",
       "| calcium |  0.43 | 0.01 |  1.00 |  0.34 | -0.29 | -0.64 |  0.61 |  0.43 |  0.71 |\n",
       "| lipides |  0.98 | 0.48 |  0.34 |  1.00 | -0.02 | -0.28 |  0.81 |  0.96 |  0.69 |\n",
       "| retinol | -0.04 | 0.14 | -0.29 | -0.02 |  1.00 |  0.52 | -0.04 | -0.09 | -0.10 |\n",
       "| folates | -0.32 | 0.14 | -0.64 | -0.28 |  0.52 |  1.00 | -0.35 | -0.37 | -0.45 |\n",
       "| proteines |  0.89 | 0.28 |  0.61 |  0.81 | -0.04 | -0.35 |  1.00 |  0.82 |  0.79 |\n",
       "| cholesterol |  0.96 | 0.33 |  0.43 |  0.96 | -0.09 | -0.37 |  0.82 |  1.00 |  0.75 |\n",
       "| magnesium |  0.75 | 0.03 |  0.71 |  0.69 | -0.10 | -0.45 |  0.79 |  0.75 |  1.00 |\n",
       "\n"
      ],
      "text/plain": [
       "            calories sodium calcium lipides retinol folates proteines\n",
       "calories     1.00    0.45    0.43    0.98   -0.04   -0.32    0.89    \n",
       "sodium       0.45    1.00    0.01    0.48    0.14    0.14    0.28    \n",
       "calcium      0.43    0.01    1.00    0.34   -0.29   -0.64    0.61    \n",
       "lipides      0.98    0.48    0.34    1.00   -0.02   -0.28    0.81    \n",
       "retinol     -0.04    0.14   -0.29   -0.02    1.00    0.52   -0.04    \n",
       "folates     -0.32    0.14   -0.64   -0.28    0.52    1.00   -0.35    \n",
       "proteines    0.89    0.28    0.61    0.81   -0.04   -0.35    1.00    \n",
       "cholesterol  0.96    0.33    0.43    0.96   -0.09   -0.37    0.82    \n",
       "magnesium    0.75    0.03    0.71    0.69   -0.10   -0.45    0.79    \n",
       "            cholesterol magnesium\n",
       "calories     0.96        0.75    \n",
       "sodium       0.33        0.03    \n",
       "calcium      0.43        0.71    \n",
       "lipides      0.96        0.69    \n",
       "retinol     -0.09       -0.10    \n",
       "folates     -0.37       -0.45    \n",
       "proteines    0.82        0.79    \n",
       "cholesterol  1.00        0.75    \n",
       "magnesium    0.75        1.00    "
      ]
     },
     "metadata": {},
     "output_type": "display_data"
    }
   ],
   "source": [
    "#计算列于列间的相关度，保留两位小数\n",
    "\n",
    "round(cor(fromages), 2)"
   ]
  },
  {
   "cell_type": "code",
   "execution_count": 57,
   "metadata": {},
   "outputs": [
    {
     "data": {
      "image/png": "[encoded data removed]",
      "text/plain": [
       "plot without title"
      ]
     },
     "metadata": {
      "image/png": {
       "height": 420,
       "width": 420
      }
     },
     "output_type": "display_data"
    }
   ],
   "source": [
    "#把数据集中每个特征，两两绘制散点图，删去呈线性关系的变量，即相关度高的变量\n",
    "pairs(fromages)"
   ]
  },
  {
   "cell_type": "markdown",
   "metadata": {},
   "source": [
    "<font size=4>从上述图和相关性矩阵中可得，calories，lipides，cholesterol和proteines之间的相关度更高，应当保留，其他的删去。</font>"
   ]
  },
  {
   "cell_type": "markdown",
   "metadata": {},
   "source": [
    "### <font size=\"4\"><font color=\"#FF8C00\">7. Etudier la modélisation linéaire de cette variable “calories”.</font></font>"
   ]
  },
  {
   "cell_type": "code",
   "execution_count": 58,
   "metadata": {},
   "outputs": [
    {
     "data": {
      "text/plain": [
       "\n",
       "Call:\n",
       "lm(formula = calories ~ ., data = fromages)\n",
       "\n",
       "Residuals:\n",
       "     Min       1Q   Median       3Q      Max \n",
       "-10.9261  -5.8959  -0.3326   3.8848  17.9170 \n",
       "\n",
       "Coefficients:\n",
       "            Estimate Std. Error t value Pr(>|t|)    \n",
       "(Intercept) 27.21563   10.42523   2.611   0.0167 *  \n",
       "sodium       0.03141    0.02470   1.272   0.2180    \n",
       "calcium     -0.01740    0.05054  -0.344   0.7343    \n",
       "lipides      6.78355    1.02424   6.623 1.89e-06 ***\n",
       "retinol     -0.04326    0.08679  -0.499   0.6236    \n",
       "folates     -0.06413    0.23255  -0.276   0.7855    \n",
       "proteines    3.27585    0.56701   5.777 1.18e-05 ***\n",
       "cholesterol  0.52666    0.25741   2.046   0.0541 .  \n",
       "magnesium    0.14740    0.35829   0.411   0.6852    \n",
       "---\n",
       "Signif. codes:  0 '***' 0.001 '**' 0.01 '*' 0.05 '.' 0.1 ' ' 1\n",
       "\n",
       "Residual standard error: 9.244 on 20 degrees of freedom\n",
       "Multiple R-squared:  0.9928,\tAdjusted R-squared:  0.9899 \n",
       "F-statistic: 343.6 on 8 and 20 DF,  p-value: < 2.2e-16\n"
      ]
     },
     "metadata": {},
     "output_type": "display_data"
    }
   ],
   "source": [
    "#利用lm函数做最小二乘算法的一元线性回归 ： yi = β0 + β1xi +εi\n",
    "#使用lm函数做多元线性回归，lm(y ~ u + v+ w)\n",
    "\n",
    "# \".\"代表fromages中每一列变量(en fonction des 8 autres variables)\n",
    "reslm = lm(calories ~ .,data = fromages)\n",
    "summary(reslm)"
   ]
  },
  {
   "cell_type": "markdown",
   "metadata": {},
   "source": [
    "<font size=4>从上述结果中可得，calories与lipides和proteines之间的effet是significatif的。与Part 6中得出的结果基本吻合。</font>"
   ]
  },
  {
   "cell_type": "markdown",
   "metadata": {},
   "source": [
    "### <font size=\"4\"><font color=\"#FF8C00\">8. Sélection de variables pas à pas descendante.</font></font>"
   ]
  },
  {
   "cell_type": "code",
   "execution_count": 59,
   "metadata": {},
   "outputs": [
    {
     "data": {
      "text/plain": [
       "\n",
       "Call:\n",
       "lm(formula = fromages[, 1] ~ fromages[, 4] + fromages[, 7])\n",
       "\n",
       "Residuals:\n",
       "     Min       1Q   Median       3Q      Max \n",
       "-15.2519  -6.0735  -0.7976   6.5884  16.6638 \n",
       "\n",
       "Coefficients:\n",
       "              Estimate Std. Error t value Pr(>|t|)    \n",
       "(Intercept)    19.6369     5.6466   3.478   0.0018 ** \n",
       "fromages[, 4]   8.7525     0.3649  23.986  < 2e-16 ***\n",
       "fromages[, 7]   3.4186     0.4262   8.020 1.69e-08 ***\n",
       "---\n",
       "Signif. codes:  0 '***' 0.001 '**' 0.01 '*' 0.05 '.' 0.1 ' ' 1\n",
       "\n",
       "Residual standard error: 9.221 on 26 degrees of freedom\n",
       "Multiple R-squared:  0.9907,\tAdjusted R-squared:  0.9899 \n",
       "F-statistic:  1378 on 2 and 26 DF,  p-value: < 2.2e-16\n"
      ]
     },
     "metadata": {},
     "output_type": "display_data"
    }
   ],
   "source": [
    "# 只比较significatif之间的特征参数：calories， lipides 和 proteines。\n",
    "\n",
    "reslm1 = lm(fromages[,1] ~ fromages[,4] + fromages[,7])\n",
    "summary(reslm1)"
   ]
  },
  {
   "cell_type": "markdown",
   "metadata": {},
   "source": [
    "<font size=4>从上述结果中可得，calories与lipides和proteines之间的effet是significatif的，且这三个特征参数已经包含了98.99%的信息。\n",
    "并且lipides的显著性(t-value)更高。</font>"
   ]
  },
  {
   "cell_type": "code",
   "execution_count": 61,
   "metadata": {
    "scrolled": true
   },
   "outputs": [
    {
     "data": {
      "text/plain": [
       "\n",
       "Call:\n",
       "lm(formula = fromages[, 1] ~ fromages[, 4])\n",
       "\n",
       "Residuals:\n",
       "    Min      1Q  Median      3Q     Max \n",
       "-36.212  -9.849   0.823   9.711  43.806 \n",
       "\n",
       "Coefficients:\n",
       "              Estimate Std. Error t value Pr(>|t|)    \n",
       "(Intercept)     31.366      9.976   3.144  0.00402 ** \n",
       "fromages[, 4]   11.121      0.392  28.367  < 2e-16 ***\n",
       "---\n",
       "Signif. codes:  0 '***' 0.001 '**' 0.01 '*' 0.05 '.' 0.1 ' ' 1\n",
       "\n",
       "Residual standard error: 16.86 on 27 degrees of freedom\n",
       "Multiple R-squared:  0.9675,\tAdjusted R-squared:  0.9663 \n",
       "F-statistic: 804.7 on 1 and 27 DF,  p-value: < 2.2e-16\n"
      ]
     },
     "metadata": {},
     "output_type": "display_data"
    }
   ],
   "source": [
    "reslm1 = lm(fromages[,1] ~ fromages[,4])\n",
    "summary(reslm1)"
   ]
  },
  {
   "cell_type": "markdown",
   "metadata": {},
   "source": [
    "<font size=4>从上述结果中可得，calories与lipides之间的effet是significatif的，且这两个特征参数已经包含了96.63%的信息。\n",
    "模型中只需要 calorie和lipides作为特征参数即可代替其他的特征参数。</font>"
   ]
  },
  {
   "cell_type": "markdown",
   "metadata": {},
   "source": [
    "## <font size=5><font color=\"#FF8C00\">Partie II - Analyse en composantes principales</font></font>"
   ]
  },
  {
   "cell_type": "markdown",
   "metadata": {},
   "source": [
    "<font size=4><font color=\"#5F9EA0\">主成分分析</font></font>\n",
    "\n",
    "PCA的目标是用一组较少的不相关变量代替大量相关变量，同时尽可能保留初始变量的信息，这些推导所得的变量称为主成分，它们是观测变量的线性组合。\n",
    "\n",
    "\n",
    "如第一主成分为：PC1=a1X1+a2X 2+……+ak Xk它是k个观测变量的加权组合，对初始变量集的方差解释性最大。\n",
    "\n",
    "\n",
    "第二主成分也是初始变量的线性组合，对方差的解释性排第二，同时与第一主成分正交（不相关）。\n",
    "\n",
    "\n",
    "后面每一个主成分都最大化它对方差的解释程度，同时与之前所有的主成分都正交。"
   ]
  },
  {
   "cell_type": "markdown",
   "metadata": {},
   "source": [
    "### <font size=\"4\"><font color=\"#FF8C00\">1. ACP normée.</font></font>"
   ]
  },
  {
   "cell_type": "code",
   "execution_count": 10,
   "metadata": {},
   "outputs": [
    {
     "name": "stdout",
     "output_type": "stream",
     "text": [
      "List of 7\n",
      " $ sdev    : Named num [1:9] 2.247 1.358 0.932 0.76 0.596 ...\n",
      "  ..- attr(*, \"names\")= chr [1:9] \"Comp.1\" \"Comp.2\" \"Comp.3\" \"Comp.4\" ...\n",
      " $ loadings: 'loadings' num [1:9, 1:9] 0.4247 0.1507 0.2941 0.4071 -0.0735 ...\n",
      "  ..- attr(*, \"dimnames\")=List of 2\n",
      "  .. ..$ : chr [1:9] \"calories\" \"sodium\" \"calcium\" \"lipides\" ...\n",
      "  .. ..$ : chr [1:9] \"Comp.1\" \"Comp.2\" \"Comp.3\" \"Comp.4\" ...\n",
      " $ center  : Named num [1:9] 300 210.1 185.7 24.2 67.6 ...\n",
      "  ..- attr(*, \"names\")= chr [1:9] \"calories\" \"sodium\" \"calcium\" \"lipides\" ...\n",
      " $ scale   : Named num [1:9] 90.32 106.79 71.27 7.99 23.74 ...\n",
      "  ..- attr(*, \"names\")= chr [1:9] \"calories\" \"sodium\" \"calcium\" \"lipides\" ...\n",
      " $ n.obs   : int 29\n",
      " $ scores  : num [1:29, 1:9] -0.642 0.472 2.929 0.763 -0.974 ...\n",
      "  ..- attr(*, \"dimnames\")=List of 2\n",
      "  .. ..$ : chr [1:29] \"CarredelEst\" \"Babybel\" \"Beaufort\" \"Bleu\" ...\n",
      "  .. ..$ : chr [1:9] \"Comp.1\" \"Comp.2\" \"Comp.3\" \"Comp.4\" ...\n",
      " $ call    : language princomp(x = fromages, cor = T, scores = T)\n",
      " - attr(*, \"class\")= chr \"princomp\"\n"
     ]
    }
   ],
   "source": [
    "# cor=True 代表使用样本的correlation矩阵做分析 否则使用协方差阵\n",
    "# acp的结果中包含：sdev标准差 loadings特征向量矩阵 centre平均值 scores 代表与主成分相关性得分\n",
    "acp = princomp(fromages,cor=T,scores=T)\n",
    "str(acp)"
   ]
  },
  {
   "cell_type": "code",
   "execution_count": 11,
   "metadata": {
    "scrolled": false
   },
   "outputs": [
    {
     "data": {
      "text/plain": [
       "Importance of components:\n",
       "                          Comp.1    Comp.2     Comp.3     Comp.4     Comp.5\n",
       "Standard deviation     2.2470233 1.3580937 0.93155833 0.75985832 0.59599510\n",
       "Proportion of Variance 0.5610126 0.2049354 0.09642232 0.06415385 0.03946779\n",
       "Cumulative Proportion  0.5610126 0.7659480 0.86237034 0.92652420 0.96599199\n",
       "                           Comp.6     Comp.7      Comp.8       Comp.9\n",
       "Standard deviation     0.41870227 0.31214454 0.168615311 0.0699653175\n",
       "Proportion of Variance 0.01947907 0.01082602 0.003159014 0.0005439051\n",
       "Cumulative Proportion  0.98547106 0.99629708 0.999456095 1.0000000000\n",
       "\n",
       "Loadings:\n",
       "            Comp.1 Comp.2 Comp.3 Comp.4 Comp.5 Comp.6 Comp.7 Comp.8 Comp.9\n",
       "calories     0.425  0.183         0.168                       0.278  0.814\n",
       "sodium       0.151  0.459  0.576 -0.589        -0.156 -0.199 -0.153       \n",
       "calcium      0.294 -0.378 -0.197 -0.616 -0.233         0.530  0.130       \n",
       "lipides      0.407  0.231  0.120  0.231  0.119         0.156  0.614 -0.536\n",
       "retinol             0.510 -0.648 -0.286  0.481                            \n",
       "folates     -0.228  0.516 -0.172  0.124 -0.761         0.232              \n",
       "proteines    0.408        -0.164        -0.215  0.756 -0.342 -0.167 -0.198\n",
       "cholesterol  0.416  0.123         0.305  0.119 -0.150  0.445 -0.688       \n",
       "magnesium    0.384 -0.125 -0.364        -0.241 -0.601 -0.530              "
      ]
     },
     "metadata": {},
     "output_type": "display_data"
    }
   ],
   "source": [
    "# 标准误、方差贡献率和累积贡献率: Standard deviation, Proportion of Variance, Cumulative Proportion\n",
    "summary(acp,loadings=TRUE)"
   ]
  },
  {
   "cell_type": "markdown",
   "metadata": {},
   "source": [
    "<font size=4>从上述结果中可得，选取3个特征参数可包含86.2%的信息。</font>"
   ]
  },
  {
   "cell_type": "markdown",
   "metadata": {},
   "source": [
    "### <font size=\"4\"><font color=\"#FF8C00\">2. Screeplot.</font></font>"
   ]
  },
  {
   "cell_type": "code",
   "execution_count": 12,
   "metadata": {},
   "outputs": [
    {
     "data": {
      "image/png": "[encoded data removed]",
      "text/plain": [
       "plot without title"
      ]
     },
     "metadata": {
      "image/png": {
       "height": 420,
       "width": 420
      }
     },
     "output_type": "display_data"
    }
   ],
   "source": [
    "# screeplot - 2 axes retenus 主成分的碎石图，原则：取特征值>1 且 大于平行分析\n",
    "\n",
    "# A$x 代表数据A中的变量x; lm.x代表一个变量；lm$x代表lm的一个属性\n",
    "# acp$sdev^2 代表取出acp中的sdev变量并做平方（得方差，也就是特征值）\n",
    "plot(1:9,acp$sdev^2,type=\"b\",xlab=\"Nb. de facteurs\",ylab=\"Val. Propres\")"
   ]
  },
  {
   "cell_type": "markdown",
   "metadata": {},
   "source": [
    "<font size=4>从上述结果中可得，大于1的部分只有两个特征参数，因此取前两个主成分做分析即可。</font>"
   ]
  },
  {
   "cell_type": "markdown",
   "metadata": {},
   "source": [
    "### <font size=\"4\"><font color=\"#FF8C00\">3. Biplot.</font></font>"
   ]
  },
  {
   "cell_type": "code",
   "execution_count": 13,
   "metadata": {},
   "outputs": [
    {
     "data": {
      "image/png": "[encoded data removed]",
      "text/plain": [
       "plot without title"
      ]
     },
     "metadata": {
      "image/png": {
       "height": 420,
       "width": 420
      }
     },
     "output_type": "display_data"
    }
   ],
   "source": [
    "#biplot 画出数据关于主成分的散点图 原坐标在主成分下的方向\n",
    "#两变量夹角180° forte correlation negative；0° forte correlation positive；90° non correlation\n",
    "biplot(acp,cex=0.65)"
   ]
  },
  {
   "cell_type": "markdown",
   "metadata": {},
   "source": [
    "<font size=4>把上图按照4个象限进行分类。可以把fromages分为四类。</font>"
   ]
  },
  {
   "cell_type": "markdown",
   "metadata": {},
   "source": [
    "### <font size=\"4\"><font color=\"#FF8C00\">4. 额外的部分，或许不重要</font></font>"
   ]
  },
  {
   "cell_type": "code",
   "execution_count": 14,
   "metadata": {},
   "outputs": [
    {
     "data": {
      "text/html": [
       "<table>\n",
       "<caption>A matrix: 9 × 9 of type dbl</caption>\n",
       "<thead>\n",
       "\t<tr><th></th><th scope=col>calories</th><th scope=col>sodium</th><th scope=col>calcium</th><th scope=col>lipides</th><th scope=col>retinol</th><th scope=col>folates</th><th scope=col>proteines</th><th scope=col>cholesterol</th><th scope=col>magnesium</th></tr>\n",
       "</thead>\n",
       "<tbody>\n",
       "\t<tr><th scope=row>calories</th><td> 1.00000000</td><td>0.447224073</td><td> 0.433400087</td><td> 0.98363377</td><td>-0.04288511</td><td>-0.3210979</td><td> 0.88537159</td><td> 0.96192339</td><td> 0.74544320</td></tr>\n",
       "\t<tr><th scope=row>sodium</th><td> 0.44722407</td><td>1.000000000</td><td> 0.005958892</td><td> 0.48334434</td><td> 0.14432755</td><td> 0.1365614</td><td> 0.27599791</td><td> 0.33299397</td><td> 0.03111281</td></tr>\n",
       "\t<tr><th scope=row>calcium</th><td> 0.43340009</td><td>0.005958892</td><td> 1.000000000</td><td> 0.34113187</td><td>-0.28954677</td><td>-0.6375025</td><td> 0.61070486</td><td> 0.42844622</td><td> 0.71048042</td></tr>\n",
       "\t<tr><th scope=row>lipides</th><td> 0.98363377</td><td>0.483344342</td><td> 0.341131874</td><td> 1.00000000</td><td>-0.01835291</td><td>-0.2765428</td><td> 0.80930257</td><td> 0.95544387</td><td> 0.68986008</td></tr>\n",
       "\t<tr><th scope=row>retinol</th><td>-0.04288511</td><td>0.144327552</td><td>-0.289546767</td><td>-0.01835291</td><td> 1.00000000</td><td> 0.5172664</td><td>-0.03917254</td><td>-0.08697243</td><td>-0.09980065</td></tr>\n",
       "\t<tr><th scope=row>folates</th><td>-0.32109786</td><td>0.136561416</td><td>-0.637502539</td><td>-0.27654282</td><td> 0.51726643</td><td> 1.0000000</td><td>-0.35287125</td><td>-0.36634610</td><td>-0.44706739</td></tr>\n",
       "\t<tr><th scope=row>proteines</th><td> 0.88537159</td><td>0.275997906</td><td> 0.610704864</td><td> 0.80930257</td><td>-0.03917254</td><td>-0.3528712</td><td> 1.00000000</td><td> 0.81713835</td><td> 0.78777726</td></tr>\n",
       "\t<tr><th scope=row>cholesterol</th><td> 0.96192339</td><td>0.332993972</td><td> 0.428446215</td><td> 0.95544387</td><td>-0.08697243</td><td>-0.3663461</td><td> 0.81713835</td><td> 1.00000000</td><td> 0.75245338</td></tr>\n",
       "\t<tr><th scope=row>magnesium</th><td> 0.74544320</td><td>0.031112805</td><td> 0.710480424</td><td> 0.68986008</td><td>-0.09980065</td><td>-0.4470674</td><td> 0.78777726</td><td> 0.75245338</td><td> 1.00000000</td></tr>\n",
       "</tbody>\n",
       "</table>\n"
      ],
      "text/latex": [
       "A matrix: 9 × 9 of type dbl\n",
       "\\begin{tabular}{r|lllllllll}\n",
       "  & calories & sodium & calcium & lipides & retinol & folates & proteines & cholesterol & magnesium\\\\\n",
       "\\hline\n",
       "\tcalories &  1.00000000 & 0.447224073 &  0.433400087 &  0.98363377 & -0.04288511 & -0.3210979 &  0.88537159 &  0.96192339 &  0.74544320\\\\\n",
       "\tsodium &  0.44722407 & 1.000000000 &  0.005958892 &  0.48334434 &  0.14432755 &  0.1365614 &  0.27599791 &  0.33299397 &  0.03111281\\\\\n",
       "\tcalcium &  0.43340009 & 0.005958892 &  1.000000000 &  0.34113187 & -0.28954677 & -0.6375025 &  0.61070486 &  0.42844622 &  0.71048042\\\\\n",
       "\tlipides &  0.98363377 & 0.483344342 &  0.341131874 &  1.00000000 & -0.01835291 & -0.2765428 &  0.80930257 &  0.95544387 &  0.68986008\\\\\n",
       "\tretinol & -0.04288511 & 0.144327552 & -0.289546767 & -0.01835291 &  1.00000000 &  0.5172664 & -0.03917254 & -0.08697243 & -0.09980065\\\\\n",
       "\tfolates & -0.32109786 & 0.136561416 & -0.637502539 & -0.27654282 &  0.51726643 &  1.0000000 & -0.35287125 & -0.36634610 & -0.44706739\\\\\n",
       "\tproteines &  0.88537159 & 0.275997906 &  0.610704864 &  0.80930257 & -0.03917254 & -0.3528712 &  1.00000000 &  0.81713835 &  0.78777726\\\\\n",
       "\tcholesterol &  0.96192339 & 0.332993972 &  0.428446215 &  0.95544387 & -0.08697243 & -0.3663461 &  0.81713835 &  1.00000000 &  0.75245338\\\\\n",
       "\tmagnesium &  0.74544320 & 0.031112805 &  0.710480424 &  0.68986008 & -0.09980065 & -0.4470674 &  0.78777726 &  0.75245338 &  1.00000000\\\\\n",
       "\\end{tabular}\n"
      ],
      "text/markdown": [
       "\n",
       "A matrix: 9 × 9 of type dbl\n",
       "\n",
       "| <!--/--> | calories | sodium | calcium | lipides | retinol | folates | proteines | cholesterol | magnesium |\n",
       "|---|---|---|---|---|---|---|---|---|---|\n",
       "| calories |  1.00000000 | 0.447224073 |  0.433400087 |  0.98363377 | -0.04288511 | -0.3210979 |  0.88537159 |  0.96192339 |  0.74544320 |\n",
       "| sodium |  0.44722407 | 1.000000000 |  0.005958892 |  0.48334434 |  0.14432755 |  0.1365614 |  0.27599791 |  0.33299397 |  0.03111281 |\n",
       "| calcium |  0.43340009 | 0.005958892 |  1.000000000 |  0.34113187 | -0.28954677 | -0.6375025 |  0.61070486 |  0.42844622 |  0.71048042 |\n",
       "| lipides |  0.98363377 | 0.483344342 |  0.341131874 |  1.00000000 | -0.01835291 | -0.2765428 |  0.80930257 |  0.95544387 |  0.68986008 |\n",
       "| retinol | -0.04288511 | 0.144327552 | -0.289546767 | -0.01835291 |  1.00000000 |  0.5172664 | -0.03917254 | -0.08697243 | -0.09980065 |\n",
       "| folates | -0.32109786 | 0.136561416 | -0.637502539 | -0.27654282 |  0.51726643 |  1.0000000 | -0.35287125 | -0.36634610 | -0.44706739 |\n",
       "| proteines |  0.88537159 | 0.275997906 |  0.610704864 |  0.80930257 | -0.03917254 | -0.3528712 |  1.00000000 |  0.81713835 |  0.78777726 |\n",
       "| cholesterol |  0.96192339 | 0.332993972 |  0.428446215 |  0.95544387 | -0.08697243 | -0.3663461 |  0.81713835 |  1.00000000 |  0.75245338 |\n",
       "| magnesium |  0.74544320 | 0.031112805 |  0.710480424 |  0.68986008 | -0.09980065 | -0.4470674 |  0.78777726 |  0.75245338 |  1.00000000 |\n",
       "\n"
      ],
      "text/plain": [
       "            calories    sodium      calcium      lipides     retinol    \n",
       "calories     1.00000000 0.447224073  0.433400087  0.98363377 -0.04288511\n",
       "sodium       0.44722407 1.000000000  0.005958892  0.48334434  0.14432755\n",
       "calcium      0.43340009 0.005958892  1.000000000  0.34113187 -0.28954677\n",
       "lipides      0.98363377 0.483344342  0.341131874  1.00000000 -0.01835291\n",
       "retinol     -0.04288511 0.144327552 -0.289546767 -0.01835291  1.00000000\n",
       "folates     -0.32109786 0.136561416 -0.637502539 -0.27654282  0.51726643\n",
       "proteines    0.88537159 0.275997906  0.610704864  0.80930257 -0.03917254\n",
       "cholesterol  0.96192339 0.332993972  0.428446215  0.95544387 -0.08697243\n",
       "magnesium    0.74544320 0.031112805  0.710480424  0.68986008 -0.09980065\n",
       "            folates    proteines   cholesterol magnesium  \n",
       "calories    -0.3210979  0.88537159  0.96192339  0.74544320\n",
       "sodium       0.1365614  0.27599791  0.33299397  0.03111281\n",
       "calcium     -0.6375025  0.61070486  0.42844622  0.71048042\n",
       "lipides     -0.2765428  0.80930257  0.95544387  0.68986008\n",
       "retinol      0.5172664 -0.03917254 -0.08697243 -0.09980065\n",
       "folates      1.0000000 -0.35287125 -0.36634610 -0.44706739\n",
       "proteines   -0.3528712  1.00000000  0.81713835  0.78777726\n",
       "cholesterol -0.3663461  0.81713835  1.00000000  0.75245338\n",
       "magnesium   -0.4470674  0.78777726  0.75245338  1.00000000"
      ]
     },
     "metadata": {},
     "output_type": "display_data"
    }
   ],
   "source": [
    "# 主因子分析，计算特征参数的相关系数矩阵\n",
    "fromages.cor<-cor(fromages)\n",
    "fromages.cor"
   ]
  },
  {
   "cell_type": "code",
   "execution_count": 15,
   "metadata": {},
   "outputs": [
    {
     "data": {
      "text/plain": [
       "eigen() decomposition\n",
       "$values\n",
       "[1] 5.049113814 1.844418362 0.867800921 0.577384673 0.355210155 0.175311592\n",
       "[7] 0.097434214 0.028431123 0.004895146\n",
       "\n",
       "$vectors\n",
       "            [,1]        [,2]       [,3]         [,4]        [,5]         [,6]\n",
       " [1,] -0.4247135  0.18269387 -0.0640164 -0.168328977  0.03708393 -0.092338461\n",
       " [2,] -0.1506519  0.45864411 -0.5763520  0.588958382 -0.01704331  0.155503845\n",
       " [3,] -0.2940906 -0.37781590  0.1967491  0.616165791 -0.23345010  0.006730827\n",
       " [4,] -0.4070819  0.23137901 -0.1202901 -0.230814562  0.11926078  0.097349339\n",
       " [5,]  0.0734541  0.50956831  0.6479515  0.285603270  0.48106096 -0.005299608\n",
       " [6,]  0.2277333  0.51647500  0.1724301 -0.124034770 -0.76115430  0.048618148\n",
       " [7,] -0.4081599  0.05349076  0.1644870  0.042541472 -0.21540158 -0.755946052\n",
       " [8,] -0.4163806  0.12323642 -0.0360387 -0.305064591  0.11900158  0.150220746\n",
       " [9,] -0.3840473 -0.12463012  0.3641597 -0.005450031 -0.24140730  0.601130143\n",
       "             [,7]         [,8]         [,9]\n",
       " [1,] -0.05839055  0.277720846  0.814474525\n",
       " [2,]  0.19933559 -0.152569754 -0.020295810\n",
       " [3,] -0.53006031  0.129908992  0.003295346\n",
       " [4,] -0.15611189  0.614212163 -0.536353869\n",
       " [5,] -0.04440727 -0.004379981  0.009762397\n",
       " [6,] -0.23175211  0.028717847  0.004582745\n",
       " [7,]  0.34206214 -0.166531269 -0.197704361\n",
       " [8,] -0.44455743 -0.688074762 -0.096285878\n",
       " [9,]  0.53028497 -0.058627931 -0.007661981\n"
      ]
     },
     "metadata": {},
     "output_type": "display_data"
    }
   ],
   "source": [
    "# 计算特征值和特征向量及因子的贡献率和累积贡献率\n",
    "fromages.eigen<-eigen(fromages.cor)\n",
    "fromages.eigen"
   ]
  },
  {
   "cell_type": "code",
   "execution_count": 16,
   "metadata": {},
   "outputs": [
    {
     "data": {
      "text/html": [
       "<table>\n",
       "<caption>A matrix: 9 × 2 of type dbl</caption>\n",
       "<tbody>\n",
       "\t<tr><td>-0.9543410</td><td> 0.24811539</td></tr>\n",
       "\t<tr><td>-0.3385182</td><td> 0.62288165</td></tr>\n",
       "\t<tr><td>-0.6608283</td><td>-0.51310938</td></tr>\n",
       "\t<tr><td>-0.9147226</td><td> 0.31423437</td></tr>\n",
       "\t<tr><td> 0.1650531</td><td> 0.69204148</td></tr>\n",
       "\t<tr><td> 0.5117220</td><td> 0.70142142</td></tr>\n",
       "\t<tr><td>-0.9171448</td><td> 0.07264546</td></tr>\n",
       "\t<tr><td>-0.9356169</td><td> 0.16736661</td></tr>\n",
       "\t<tr><td>-0.8629632</td><td>-0.16925937</td></tr>\n",
       "</tbody>\n",
       "</table>\n"
      ],
      "text/latex": [
       "A matrix: 9 × 2 of type dbl\n",
       "\\begin{tabular}{ll}\n",
       "\t -0.9543410 &  0.24811539\\\\\n",
       "\t -0.3385182 &  0.62288165\\\\\n",
       "\t -0.6608283 & -0.51310938\\\\\n",
       "\t -0.9147226 &  0.31423437\\\\\n",
       "\t  0.1650531 &  0.69204148\\\\\n",
       "\t  0.5117220 &  0.70142142\\\\\n",
       "\t -0.9171448 &  0.07264546\\\\\n",
       "\t -0.9356169 &  0.16736661\\\\\n",
       "\t -0.8629632 & -0.16925937\\\\\n",
       "\\end{tabular}\n"
      ],
      "text/markdown": [
       "\n",
       "A matrix: 9 × 2 of type dbl\n",
       "\n",
       "| -0.9543410 |  0.24811539 |\n",
       "| -0.3385182 |  0.62288165 |\n",
       "| -0.6608283 | -0.51310938 |\n",
       "| -0.9147226 |  0.31423437 |\n",
       "|  0.1650531 |  0.69204148 |\n",
       "|  0.5117220 |  0.70142142 |\n",
       "| -0.9171448 |  0.07264546 |\n",
       "| -0.9356169 |  0.16736661 |\n",
       "| -0.8629632 | -0.16925937 |\n",
       "\n"
      ],
      "text/plain": [
       "      [,1]       [,2]       \n",
       " [1,] -0.9543410  0.24811539\n",
       " [2,] -0.3385182  0.62288165\n",
       " [3,] -0.6608283 -0.51310938\n",
       " [4,] -0.9147226  0.31423437\n",
       " [5,]  0.1650531  0.69204148\n",
       " [6,]  0.5117220  0.70142142\n",
       " [7,] -0.9171448  0.07264546\n",
       " [8,] -0.9356169  0.16736661\n",
       " [9,] -0.8629632 -0.16925937"
      ]
     },
     "metadata": {},
     "output_type": "display_data"
    }
   ],
   "source": [
    "# 用特征值的平方根乘以相应的特征向量得到因子载荷矩阵.并且只显示前2个因子的结果\n",
    "t(sqrt(fromages.eigen$values) *t(fromages.eigen$vectors))[,1:2]"
   ]
  },
  {
   "cell_type": "code",
   "execution_count": 17,
   "metadata": {},
   "outputs": [
    {
     "name": "stdout",
     "output_type": "stream",
     "text": [
      "\n",
      "Call:\n",
      "factanal(x = fromages, factors = 2)\n",
      "\n",
      "Uniquenesses:\n",
      "   calories      sodium     calcium     lipides     retinol     folates \n",
      "      0.005       0.670       0.187       0.014       0.901       0.598 \n",
      "  proteines cholesterol   magnesium \n",
      "      0.142       0.068       0.219 \n",
      "\n",
      "Loadings:\n",
      "            Factor1 Factor2\n",
      "calories     0.962   0.264 \n",
      "sodium       0.523  -0.237 \n",
      "calcium      0.212   0.876 \n",
      "lipides      0.982   0.148 \n",
      "retinol      0.038  -0.312 \n",
      "folates     -0.172  -0.610 \n",
      "proteines    0.768   0.518 \n",
      "cholesterol  0.927   0.271 \n",
      "magnesium    0.600   0.649 \n",
      "\n",
      "               Factor1 Factor2\n",
      "SS loadings      4.047   2.148\n",
      "Proportion Var   0.450   0.239\n",
      "Cumulative Var   0.450   0.688\n",
      "\n",
      "Test of the hypothesis that 2 factors are sufficient.\n",
      "The chi square statistic is 39.2 on 19 degrees of freedom.\n",
      "The p-value is 0.00416 \n"
     ]
    }
   ],
   "source": [
    "fromages.fa<-factanal(fromages,factors = 2)\n",
    "print(fromages.fa, cutoff=0.001)"
   ]
  },
  {
   "cell_type": "code",
   "execution_count": 7,
   "metadata": {},
   "outputs": [
    {
     "data": {
      "image/png": "[encoded data removed]",
      "text/plain": [
       "plot without title"
      ]
     },
     "metadata": {
      "image/png": {
       "height": 420,
       "width": 420
      }
     },
     "output_type": "display_data"
    }
   ],
   "source": [
    "# 用回归方法(regression)计算因子得分并作图，然后对样本进行分类\n",
    "fromagesfa<-factanal(fromages,factors = 2, scores = \"regression\")\n",
    "#fromagesfa$scores\n",
    "plot(fromagesfa$scores[,1:2],col='blue')\n",
    "text(fromagesfa$scores[,1],fromagesfa$scores[,2],col = 'red',cex = 0.9,adj = c(0.1,0.1))\n",
    "#text(fromagesfa$scores[,1],fromagesfa$scores[,3],col = 'green',cex = 0.9,adj = c(0.1,0.1,0.1))"
   ]
  },
  {
   "cell_type": "markdown",
   "metadata": {},
   "source": [
    "## <font size=5><font color=\"#FF8C00\">Partie III - Classification ascendante hiérarchique</font></font>"
   ]
  },
  {
   "cell_type": "code",
   "execution_count": 5,
   "metadata": {
    "scrolled": false
   },
   "outputs": [
    {
     "data": {
      "text/html": [
       "<style>\n",
       ".dl-inline {width: auto; margin:0; padding: 0}\n",
       ".dl-inline>dt, .dl-inline>dd {float: none; width: auto; display: inline-block}\n",
       ".dl-inline>dt::after {content: \":\\0020\"; padding-right: .5ex}\n",
       ".dl-inline>dt:not(:first-of-type) {padding-left: .5ex}\n",
       "</style><dl class=dl-inline><dt>CarredelEst</dt><dd>1</dd><dt>Babybel</dt><dd>2</dd><dt>Beaufort</dt><dd>3</dd><dt>Bleu</dt><dd>1</dd><dt>Camembert</dt><dd>2</dd><dt>Cantal</dt><dd>1</dd><dt>Chabichou</dt><dd>2</dd><dt>Chaource</dt><dd>2</dd><dt>Cheddar</dt><dd>3</dd><dt>Comte</dt><dd>3</dd><dt>Coulomniers</dt><dd>2</dd><dt>Edam</dt><dd>3</dd><dt>Emmental</dt><dd>3</dd><dt>Fr.chevrepatemolle</dt><dd>2</dd><dt>Fr.fondu.45</dt><dd>1</dd><dt>Fr.frais20nat.</dt><dd>4</dd><dt>Fr.frais40nat.</dt><dd>4</dd><dt>Maroilles</dt><dd>1</dd><dt>Morbier</dt><dd>1</dd><dt>Parmesan</dt><dd>1</dd><dt>Petitsuisse40</dt><dd>4</dd><dt>PontlEveque</dt><dd>2</dd><dt>Pyrenees</dt><dd>2</dd><dt>Reblochon</dt><dd>2</dd><dt>Rocquefort</dt><dd>1</dd><dt>SaintPaulin</dt><dd>3</dd><dt>Tome</dt><dd>2</dd><dt>Vacherin</dt><dd>3</dd><dt>Yaourtlaitent.nat.</dt><dd>4</dd></dl>\n"
      ],
      "text/latex": [
       "\\begin{description*}\n",
       "\\item[CarredelEst] 1\n",
       "\\item[Babybel] 2\n",
       "\\item[Beaufort] 3\n",
       "\\item[Bleu] 1\n",
       "\\item[Camembert] 2\n",
       "\\item[Cantal] 1\n",
       "\\item[Chabichou] 2\n",
       "\\item[Chaource] 2\n",
       "\\item[Cheddar] 3\n",
       "\\item[Comte] 3\n",
       "\\item[Coulomniers] 2\n",
       "\\item[Edam] 3\n",
       "\\item[Emmental] 3\n",
       "\\item[Fr.chevrepatemolle] 2\n",
       "\\item[Fr.fondu.45] 1\n",
       "\\item[Fr.frais20nat.] 4\n",
       "\\item[Fr.frais40nat.] 4\n",
       "\\item[Maroilles] 1\n",
       "\\item[Morbier] 1\n",
       "\\item[Parmesan] 1\n",
       "\\item[Petitsuisse40] 4\n",
       "\\item[PontlEveque] 2\n",
       "\\item[Pyrenees] 2\n",
       "\\item[Reblochon] 2\n",
       "\\item[Rocquefort] 1\n",
       "\\item[SaintPaulin] 3\n",
       "\\item[Tome] 2\n",
       "\\item[Vacherin] 3\n",
       "\\item[Yaourtlaitent.nat.] 4\n",
       "\\end{description*}\n"
      ],
      "text/markdown": [
       "CarredelEst\n",
       ":   1Babybel\n",
       ":   2Beaufort\n",
       ":   3Bleu\n",
       ":   1Camembert\n",
       ":   2Cantal\n",
       ":   1Chabichou\n",
       ":   2Chaource\n",
       ":   2Cheddar\n",
       ":   3Comte\n",
       ":   3Coulomniers\n",
       ":   2Edam\n",
       ":   3Emmental\n",
       ":   3Fr.chevrepatemolle\n",
       ":   2Fr.fondu.45\n",
       ":   1Fr.frais20nat.\n",
       ":   4Fr.frais40nat.\n",
       ":   4Maroilles\n",
       ":   1Morbier\n",
       ":   1Parmesan\n",
       ":   1Petitsuisse40\n",
       ":   4PontlEveque\n",
       ":   2Pyrenees\n",
       ":   2Reblochon\n",
       ":   2Rocquefort\n",
       ":   1SaintPaulin\n",
       ":   3Tome\n",
       ":   2Vacherin\n",
       ":   3Yaourtlaitent.nat.\n",
       ":   4\n",
       "\n"
      ],
      "text/plain": [
       "       CarredelEst            Babybel           Beaufort               Bleu \n",
       "                 1                  2                  3                  1 \n",
       "         Camembert             Cantal          Chabichou           Chaource \n",
       "                 2                  1                  2                  2 \n",
       "           Cheddar              Comte        Coulomniers               Edam \n",
       "                 3                  3                  2                  3 \n",
       "          Emmental Fr.chevrepatemolle        Fr.fondu.45     Fr.frais20nat. \n",
       "                 3                  2                  1                  4 \n",
       "    Fr.frais40nat.          Maroilles            Morbier           Parmesan \n",
       "                 4                  1                  1                  1 \n",
       "     Petitsuisse40        PontlEveque           Pyrenees          Reblochon \n",
       "                 4                  2                  2                  2 \n",
       "        Rocquefort        SaintPaulin               Tome           Vacherin \n",
       "                 1                  3                  2                  3 \n",
       "Yaourtlaitent.nat. \n",
       "                 4 "
      ]
     },
     "metadata": {},
     "output_type": "display_data"
    },
    {
     "data": {
      "image/png": "[encoded data removed]",
      "text/plain": [
       "Plot with title \"Cluster Dendrogram\""
      ]
     },
     "metadata": {
      "image/png": {
       "height": 420,
       "width": 420
      }
     },
     "output_type": "display_data"
    }
   ],
   "source": [
    "out.dis=dist(fromages,method=\"euclidean\") #使用欧几里得距离\n",
    "out.hclust=hclust(out.dis, method = \"ward.D\") #使用ward法\n",
    "plot(out.hclust) # 画出树状图\n",
    "\n",
    "rect.hclust(out.hclust, k=4) # 想要分成4类\n",
    "out.id = cutree(out.hclust, k=4) #返回每一类所包含的fromage\n",
    "out.id"
   ]
  }
 ],
 "metadata": {
  "kernelspec": {
   "display_name": "R",
   "language": "R",
   "name": "ir"
  },
  "language_info": {
   "codemirror_mode": "r",
   "file_extension": ".r",
   "mimetype": "text/x-r-source",
   "name": "R",
   "pygments_lexer": "r",
   "version": "3.5.3"
  }
 },
 "nbformat": 4,
 "nbformat_minor": 2
}
